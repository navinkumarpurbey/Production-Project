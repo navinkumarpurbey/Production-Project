{
 "cells": [
  {
   "cell_type": "code",
   "execution_count": 1,
   "id": "5b4ed3aa",
   "metadata": {},
   "outputs": [],
   "source": [
    "# Import all the Libraries\n",
    "import pandas as pd\n",
    "import numpy as np\n",
    "import seaborn as sns\n",
    "import matplotlib.pyplot as plt"
   ]
  },
  {
   "cell_type": "code",
   "execution_count": 2,
   "id": "8e105189",
   "metadata": {},
   "outputs": [],
   "source": [
    "# Loading the data sets \n",
    "df = pd.read_csv(\"Global Health Dataset.csv\")"
   ]
  },
  {
   "cell_type": "code",
   "execution_count": 3,
   "id": "9a1109b5",
   "metadata": {},
   "outputs": [
    {
     "name": "stdout",
     "output_type": "stream",
     "text": [
      "     Country  Year         Disease Name Disease Category  Prevalence Rate (%)  \\\n",
      "0      Italy  2013              Malaria      Respiratory                 0.95   \n",
      "1     France  2002                Ebola        Parasitic                12.46   \n",
      "2     Turkey  2015             COVID-19          Genetic                 0.91   \n",
      "3  Indonesia  2011  Parkinson's Disease       Autoimmune                 4.68   \n",
      "4      Italy  2013         Tuberculosis          Genetic                 0.83   \n",
      "\n",
      "   Incidence Rate (%)  Mortality Rate (%) Age Group Gender  \\\n",
      "0                1.55                8.42      0-18   Male   \n",
      "1                8.63                8.75       61+   Male   \n",
      "2                2.35                6.22     36-60   Male   \n",
      "3                6.29                3.99      0-18  Other   \n",
      "4               13.59                7.01       61+   Male   \n",
      "\n",
      "   Population Affected  ...  Hospital Beds per 1000  Treatment Type  \\\n",
      "0               471007  ...                    7.58      Medication   \n",
      "1               634318  ...                    5.11         Surgery   \n",
      "2               154878  ...                    3.49     Vaccination   \n",
      "3               446224  ...                    8.44         Surgery   \n",
      "4               472908  ...                    5.90      Medication   \n",
      "\n",
      "   Average Treatment Cost (USD) Availability of Vaccines/Treatment  \\\n",
      "0                         21064                                 No   \n",
      "1                         47851                                Yes   \n",
      "2                         27834                                Yes   \n",
      "3                           144                                Yes   \n",
      "4                          8908                                Yes   \n",
      "\n",
      "   Recovery Rate (%) DALYs  Improvement in 5 Years (%)  \\\n",
      "0              91.82  4493                        2.16   \n",
      "1              76.65  2366                        4.82   \n",
      "2              98.55    41                        5.81   \n",
      "3              67.35  3201                        2.22   \n",
      "4              50.06  2832                        6.93   \n",
      "\n",
      "   Per Capita Income (USD)  Education Index  Urbanization Rate (%)  \n",
      "0                    16886             0.79                  86.02  \n",
      "1                    80639             0.74                  45.52  \n",
      "2                    12245             0.41                  40.20  \n",
      "3                    49336             0.49                  58.47  \n",
      "4                    47701             0.50                  48.14  \n",
      "\n",
      "[5 rows x 22 columns]\n"
     ]
    }
   ],
   "source": [
    "# Displaying the first 5 rows\n",
    "print(df.head())"
   ]
  },
  {
   "cell_type": "code",
   "execution_count": 4,
   "id": "a3d043f6",
   "metadata": {},
   "outputs": [
    {
     "name": "stdout",
     "output_type": "stream",
     "text": [
      "<class 'pandas.core.frame.DataFrame'>\n",
      "RangeIndex: 1000000 entries, 0 to 999999\n",
      "Data columns (total 22 columns):\n",
      " #   Column                              Non-Null Count    Dtype  \n",
      "---  ------                              --------------    -----  \n",
      " 0   Country                             1000000 non-null  object \n",
      " 1   Year                                1000000 non-null  int64  \n",
      " 2   Disease Name                        1000000 non-null  object \n",
      " 3   Disease Category                    1000000 non-null  object \n",
      " 4   Prevalence Rate (%)                 1000000 non-null  float64\n",
      " 5   Incidence Rate (%)                  1000000 non-null  float64\n",
      " 6   Mortality Rate (%)                  1000000 non-null  float64\n",
      " 7   Age Group                           1000000 non-null  object \n",
      " 8   Gender                              1000000 non-null  object \n",
      " 9   Population Affected                 1000000 non-null  int64  \n",
      " 10  Healthcare Access (%)               1000000 non-null  float64\n",
      " 11  Doctors per 1000                    1000000 non-null  float64\n",
      " 12  Hospital Beds per 1000              1000000 non-null  float64\n",
      " 13  Treatment Type                      1000000 non-null  object \n",
      " 14  Average Treatment Cost (USD)        1000000 non-null  int64  \n",
      " 15  Availability of Vaccines/Treatment  1000000 non-null  object \n",
      " 16  Recovery Rate (%)                   1000000 non-null  float64\n",
      " 17  DALYs                               1000000 non-null  int64  \n",
      " 18  Improvement in 5 Years (%)          1000000 non-null  float64\n",
      " 19  Per Capita Income (USD)             1000000 non-null  int64  \n",
      " 20  Education Index                     1000000 non-null  float64\n",
      " 21  Urbanization Rate (%)               1000000 non-null  float64\n",
      "dtypes: float64(10), int64(5), object(7)\n",
      "memory usage: 167.8+ MB\n",
      "None\n"
     ]
    }
   ],
   "source": [
    "# checking the data structure\n",
    "print(df.info())"
   ]
  },
  {
   "cell_type": "code",
   "execution_count": 5,
   "id": "d9706fb4",
   "metadata": {},
   "outputs": [
    {
     "name": "stdout",
     "output_type": "stream",
     "text": [
      "Country                               0\n",
      "Year                                  0\n",
      "Disease Name                          0\n",
      "Disease Category                      0\n",
      "Prevalence Rate (%)                   0\n",
      "Incidence Rate (%)                    0\n",
      "Mortality Rate (%)                    0\n",
      "Age Group                             0\n",
      "Gender                                0\n",
      "Population Affected                   0\n",
      "Healthcare Access (%)                 0\n",
      "Doctors per 1000                      0\n",
      "Hospital Beds per 1000                0\n",
      "Treatment Type                        0\n",
      "Average Treatment Cost (USD)          0\n",
      "Availability of Vaccines/Treatment    0\n",
      "Recovery Rate (%)                     0\n",
      "DALYs                                 0\n",
      "Improvement in 5 Years (%)            0\n",
      "Per Capita Income (USD)               0\n",
      "Education Index                       0\n",
      "Urbanization Rate (%)                 0\n",
      "dtype: int64\n"
     ]
    }
   ],
   "source": [
    "# Checking the missin values\n",
    "print(df.isnull().sum())"
   ]
  },
  {
   "cell_type": "code",
   "execution_count": 6,
   "id": "41b38435",
   "metadata": {},
   "outputs": [
    {
     "name": "stdout",
     "output_type": "stream",
     "text": [
      "                 Year  Prevalence Rate (%)  Incidence Rate (%)  \\\n",
      "count  1000000.000000       1000000.000000      1000000.000000   \n",
      "mean      2011.996999            10.047992            7.555005   \n",
      "std          7.217287             5.740189            4.298947   \n",
      "min       2000.000000             0.100000            0.100000   \n",
      "25%       2006.000000             5.090000            3.840000   \n",
      "50%       2012.000000            10.040000            7.550000   \n",
      "75%       2018.000000            15.010000           11.280000   \n",
      "max       2024.000000            20.000000           15.000000   \n",
      "\n",
      "       Mortality Rate (%)  Population Affected  Healthcare Access (%)  \\\n",
      "count      1000000.000000       1000000.000000         1000000.000000   \n",
      "mean             5.049919        500735.427363              74.987835   \n",
      "std              2.859427        288660.116648              14.436345   \n",
      "min              0.100000          1000.000000              50.000000   \n",
      "25%              2.580000        250491.250000              62.470000   \n",
      "50%              5.050000        501041.000000              75.000000   \n",
      "75%              7.530000        750782.000000              87.490000   \n",
      "max             10.000000       1000000.000000             100.000000   \n",
      "\n",
      "       Doctors per 1000  Hospital Beds per 1000  Average Treatment Cost (USD)  \\\n",
      "count    1000000.000000          1000000.000000                1000000.000000   \n",
      "mean           2.747929                5.245931                  25010.313665   \n",
      "std            1.299067                2.742865                  14402.279227   \n",
      "min            0.500000                0.500000                    100.000000   \n",
      "25%            1.620000                2.870000                  12538.000000   \n",
      "50%            2.750000                5.240000                  24980.000000   \n",
      "75%            3.870000                7.620000                  37493.000000   \n",
      "max            5.000000               10.000000                  50000.000000   \n",
      "\n",
      "       Recovery Rate (%)           DALYs  Improvement in 5 Years (%)  \\\n",
      "count     1000000.000000  1000000.000000              1000000.000000   \n",
      "mean           74.496934     2499.144809                    5.002593   \n",
      "std            14.155168     1443.923798                    2.888298   \n",
      "min            50.000000        1.000000                    0.000000   \n",
      "25%            62.220000     1245.000000                    2.500000   \n",
      "50%            74.470000     2499.000000                    5.000000   \n",
      "75%            86.780000     3750.000000                    7.510000   \n",
      "max            99.000000     5000.000000                   10.000000   \n",
      "\n",
      "       Per Capita Income (USD)  Education Index  Urbanization Rate (%)  \n",
      "count           1000000.000000   1000000.000000         1000000.000000  \n",
      "mean              50311.099835         0.650069              54.985212  \n",
      "std               28726.959359         0.144472              20.214042  \n",
      "min                 500.000000         0.400000              20.000000  \n",
      "25%               25457.000000         0.530000              37.470000  \n",
      "50%               50372.000000         0.650000              54.980000  \n",
      "75%               75195.000000         0.780000              72.510000  \n",
      "max              100000.000000         0.900000              90.000000  \n"
     ]
    }
   ],
   "source": [
    "# Checking the summary statistics\n",
    "print(df.describe())"
   ]
  },
  {
   "cell_type": "code",
   "execution_count": 7,
   "id": "a32329eb",
   "metadata": {},
   "outputs": [
    {
     "name": "stdout",
     "output_type": "stream",
     "text": [
      "0\n"
     ]
    }
   ],
   "source": [
    "# Checking the duplicate rows\n",
    "print(df.duplicated().sum())"
   ]
  },
  {
   "cell_type": "code",
   "execution_count": 8,
   "id": "36547be7",
   "metadata": {},
   "outputs": [
    {
     "name": "stdout",
     "output_type": "stream",
     "text": [
      "Database Dimension:  (1000000, 22)\n"
     ]
    }
   ],
   "source": [
    "# Finding the dimension (rows and column) of the DataFrame\n",
    "print(\"Database Dimension: \", df.shape)"
   ]
  },
  {
   "cell_type": "code",
   "execution_count": 9,
   "id": "2a7c8b6d",
   "metadata": {},
   "outputs": [
    {
     "name": "stdout",
     "output_type": "stream",
     "text": [
      "Size of Database:  22000000\n"
     ]
    }
   ],
   "source": [
    "# Size of the Database\n",
    "print(\"Size of Database: \", df.size)"
   ]
  },
  {
   "cell_type": "code",
   "execution_count": 10,
   "id": "8d8409c0",
   "metadata": {},
   "outputs": [
    {
     "name": "stdout",
     "output_type": "stream",
     "text": [
      "Index(['Country', 'Year', 'Disease Name', 'Disease Category',\n",
      "       'Prevalence Rate (%)', 'Incidence Rate (%)', 'Mortality Rate (%)',\n",
      "       'Age Group', 'Gender', 'Population Affected', 'Healthcare Access (%)',\n",
      "       'Doctors per 1000', 'Hospital Beds per 1000', 'Treatment Type',\n",
      "       'Average Treatment Cost (USD)', 'Availability of Vaccines/Treatment',\n",
      "       'Recovery Rate (%)', 'DALYs', 'Improvement in 5 Years (%)',\n",
      "       'Per Capita Income (USD)', 'Education Index', 'Urbanization Rate (%)'],\n",
      "      dtype='object')\n"
     ]
    }
   ],
   "source": [
    "print(df.columns)"
   ]
  },
  {
   "cell_type": "code",
   "execution_count": 11,
   "id": "85131d38",
   "metadata": {},
   "outputs": [],
   "source": [
    "# Handling the missing value\n",
    "threshold = len(df) * 0.5\n",
    "df = df.dropna(thresh = threshold, axis = 1)"
   ]
  },
  {
   "cell_type": "code",
   "execution_count": 12,
   "id": "1f22206c",
   "metadata": {},
   "outputs": [],
   "source": [
    "# Fill the missing numerical values with median\n",
    "num_cols = df.select_dtypes(include = ['float64', 'int64']).columns\n",
    "df[num_cols] = df[num_cols].apply(lambda x: x.fillna(x.median()))"
   ]
  },
  {
   "cell_type": "code",
   "execution_count": 13,
   "id": "f4895431",
   "metadata": {},
   "outputs": [],
   "source": [
    "# Filling the categorical value with mode\n",
    "cat_cols = df.select_dtypes(include = ['object']).columns\n",
    "df[cat_cols] = df[cat_cols].apply(lambda x: x.fillna(x.mode()[0]))"
   ]
  },
  {
   "cell_type": "code",
   "execution_count": 14,
   "id": "b5550e2b",
   "metadata": {},
   "outputs": [
    {
     "name": "stdout",
     "output_type": "stream",
     "text": [
      "Country                               0\n",
      "Year                                  0\n",
      "Disease Name                          0\n",
      "Disease Category                      0\n",
      "Prevalence Rate (%)                   0\n",
      "Incidence Rate (%)                    0\n",
      "Mortality Rate (%)                    0\n",
      "Age Group                             0\n",
      "Gender                                0\n",
      "Population Affected                   0\n",
      "Healthcare Access (%)                 0\n",
      "Doctors per 1000                      0\n",
      "Hospital Beds per 1000                0\n",
      "Treatment Type                        0\n",
      "Average Treatment Cost (USD)          0\n",
      "Availability of Vaccines/Treatment    0\n",
      "Recovery Rate (%)                     0\n",
      "DALYs                                 0\n",
      "Improvement in 5 Years (%)            0\n",
      "Per Capita Income (USD)               0\n",
      "Education Index                       0\n",
      "Urbanization Rate (%)                 0\n",
      "dtype: int64\n"
     ]
    }
   ],
   "source": [
    "# Now conforming the no duplicate values\n",
    "print(df.isnull().sum())"
   ]
  },
  {
   "cell_type": "code",
   "execution_count": 15,
   "id": "9e300e3e",
   "metadata": {},
   "outputs": [
    {
     "name": "stdout",
     "output_type": "stream",
     "text": [
      "Duplicated Rows:  0\n"
     ]
    }
   ],
   "source": [
    "# Handling the duplicate values\n",
    "# checking for the duplicate rows\n",
    "print(\"Duplicated Rows: \", df.duplicated().sum())\n",
    "\n",
    "# Remove the duplicate rows\n",
    "df = df.drop_duplicates()"
   ]
  },
  {
   "cell_type": "code",
   "execution_count": 16,
   "id": "8277974b",
   "metadata": {},
   "outputs": [
    {
     "name": "stdout",
     "output_type": "stream",
     "text": [
      "Country                                     category\n",
      "Year                                  datetime64[ns]\n",
      "Disease Name                                category\n",
      "Disease Category                            category\n",
      "Prevalence Rate (%)                          float64\n",
      "Incidence Rate (%)                           float64\n",
      "Mortality Rate (%)                           float64\n",
      "Age Group                                   category\n",
      "Gender                                      category\n",
      "Population Affected                            int64\n",
      "Healthcare Access (%)                        float64\n",
      "Doctors per 1000                             float64\n",
      "Hospital Beds per 1000                       float64\n",
      "Treatment Type                              category\n",
      "Average Treatment Cost (USD)                   int64\n",
      "Availability of Vaccines/Treatment          category\n",
      "Recovery Rate (%)                            float64\n",
      "DALYs                                          int64\n",
      "Improvement in 5 Years (%)                   float64\n",
      "Per Capita Income (USD)                        int64\n",
      "Education Index                              float64\n",
      "Urbanization Rate (%)                        float64\n",
      "dtype: object\n"
     ]
    }
   ],
   "source": [
    "# Correct the datatypes\n",
    "# Converting the columns like dates to datetime and categorical data to categories\n",
    "# Convert date columns to date time formate\n",
    "df['Year'] = pd.to_datetime(df['Year'])\n",
    "\n",
    "# Convert categorical columns to category type\n",
    "df[cat_cols] = df[cat_cols].astype('category')\n",
    "\n",
    "# Verify changes\n",
    "print(df.dtypes)"
   ]
  },
  {
   "cell_type": "code",
   "execution_count": 17,
   "id": "72685ec9",
   "metadata": {},
   "outputs": [
    {
     "name": "stdout",
     "output_type": "stream",
     "text": [
      "Index(['Country', 'Year', 'Disease Name', 'Disease Category',\n",
      "       'Prevalence Rate (%)', 'Incidence Rate (%)', 'Mortality Rate (%)',\n",
      "       'Age Group', 'Gender', 'Population Affected', 'Healthcare Access (%)',\n",
      "       'Doctors per 1000', 'Hospital Beds per 1000', 'Treatment Type',\n",
      "       'Average Treatment Cost (USD)', 'Availability of Vaccines/Treatment',\n",
      "       'Recovery Rate (%)', 'DALYs', 'Improvement in 5 Years (%)',\n",
      "       'Per Capita Income (USD)', 'Education Index', 'Urbanization Rate (%)'],\n",
      "      dtype='object')\n"
     ]
    }
   ],
   "source": [
    "print(df.columns)\n"
   ]
  },
  {
   "cell_type": "code",
   "execution_count": 18,
   "id": "d8e7c649",
   "metadata": {},
   "outputs": [
    {
     "data": {
      "image/png": "[encoded data removed]",
      "text/plain": [
       "<Figure size 864x432 with 1 Axes>"
      ]
     },
     "metadata": {
      "needs_background": "light"
     },
     "output_type": "display_data"
    }
   ],
   "source": [
    "# Now handling Outliers\n",
    "# Plot the box plot for detecting the outliers\n",
    "plt.figure(figsize = (12, 6))\n",
    "sns.boxplot(data = df[num_cols])\n",
    "plt.xticks(rotation = 90)\n",
    "plt.show()"
   ]
  },
  {
   "cell_type": "code",
   "execution_count": 19,
   "id": "d16771e2",
   "metadata": {},
   "outputs": [],
   "source": [
    "num_cols = df.select_dtypes(include=['float64', 'int64']).columns\n"
   ]
  },
  {
   "cell_type": "code",
   "execution_count": 20,
   "id": "25e1c446",
   "metadata": {},
   "outputs": [],
   "source": [
    "# Remove the outliers using the statical IQR (Interquartile Range)\n",
    "Q1 = df[num_cols].quantile(0.25)\n",
    "Q3 = df[num_cols].quantile(0.75)\n",
    "IQR = Q3 - Q1\n",
    "\n",
    "# Define the upper and lower bounds\n",
    "lower_bound = Q1 - 1.5 * IQR\n",
    "upper_bound = Q3 + 1.5 * IQR\n"
   ]
  },
  {
   "cell_type": "code",
   "execution_count": 21,
   "id": "6a02d65c",
   "metadata": {},
   "outputs": [],
   "source": [
    "# Remove the outlier\n",
    "df = df[~((df[num_cols] < lower_bound) | (df[num_cols] > upper_bound)).any(axis=1)]\n"
   ]
  },
  {
   "cell_type": "code",
   "execution_count": 22,
   "id": "fa952414",
   "metadata": {},
   "outputs": [
    {
     "name": "stdout",
     "output_type": "stream",
     "text": [
      "Dataset Shape After Removing Outliers: (1000000, 22)\n"
     ]
    }
   ],
   "source": [
    "print(\"Dataset Shape After Removing Outliers:\", df.shape)"
   ]
  },
  {
   "cell_type": "code",
   "execution_count": 25,
   "id": "277606e9",
   "metadata": {},
   "outputs": [],
   "source": [
    "# Now the main factor of Standardization and Normalization\n",
    "# Standardization:- use for the Linear Regression model like KNN,SVM\n",
    "# Now import the libraries from sklearn\n",
    "from sklearn.preprocessing import StandardScaler, MinMaxScaler\n",
    "\n",
    "scaler = StandardScaler()\n",
    "df[num_cols] = scaler.fit_transform(df[num_cols])\n",
    "\n",
    "# Normalization:- Using for the models like Neural Networks and Distance based Networks\n",
    "\n",
    "scaler = MinMaxScaler()\n",
    "df[num_cols] = scaler.fit_transform(df[num_cols])"
   ]
  },
  {
   "cell_type": "code",
   "execution_count": 28,
   "id": "4b074a66",
   "metadata": {},
   "outputs": [
    {
     "name": "stdout",
     "output_type": "stream",
     "text": [
      "Data Cleaning Completed. Cleaned file saved!\n"
     ]
    }
   ],
   "source": [
    "# Now saving the CLeaned and Preprocessing Data\n",
    "df.to_csv(\"cleaned_healthcare_market_trends.csv\", index = False)\n",
    "print(\"Data Cleaning Completed. Cleaned file saved!\")"
   ]
  },
  {
   "cell_type": "code",
   "execution_count": null,
   "id": "2f1ffbe8",
   "metadata": {},
   "outputs": [],
   "source": []
  }
 ],
 "metadata": {
  "kernelspec": {
   "display_name": "Python 3 (ipykernel)",
   "language": "python",
   "name": "python3"
  },
  "language_info": {
   "codemirror_mode": {
    "name": "ipython",
    "version": 3
   },
   "file_extension": ".py",
   "mimetype": "text/x-python",
   "name": "python",
   "nbconvert_exporter": "python",
   "pygments_lexer": "ipython3",
   "version": "3.9.7"
  }
 },
 "nbformat": 4,
 "nbformat_minor": 5
}
